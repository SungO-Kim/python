{
 "cells": [
  {
   "cell_type": "markdown",
   "metadata": {},
   "source": [
    "# 조건문(IF 문)\n",
    "\n",
    "## 목차\n",
    "<ol>\n",
    "<li> 개요 </li>\n",
    "<li> 다중실행문처리 : 들여쓰기와 블럭 </li>\n",
    "<li>else 와 elif 문 </li>\n",
    "<li> 한줄 If문  </li>\n",
    "<li>파이썬의 Ternary Operator 조건문 </li>\n",
    "<li> 조건문에서 pass 기능 </li>\n",
    "</ol>    "
   ]
  },
  {
   "cell_type": "markdown",
   "metadata": {},
   "source": [
    "파이썬에서 IF문은 어떻게 의사결정을 수행할 것인가에 대한 것으로 조건부 실행, 기준에 부합하는 경우 일괄 다줄실행문처리 등을 수행할 수 있도록 도와 주고 있다."
   ]
  },
  {
   "cell_type": "markdown",
   "metadata": {},
   "source": [
    "## 개요\n",
    "\n",
    "IF문의 가장 기본적인 형태와 같다.\n",
    "\n",
    "if < 조건 >:\n",
    "\n",
    "    < 실행문 >\n",
    "    \n",
    "위에서 보여주는 것과 같이;\n",
    "\n",
    "* if < 조건 > 은 조건이 참이지 거짓인지를 판단한는 것을 말한다.\n",
    "* < 실행문 > 은 의사결정후 실행되어야 것을 말한다. 실행문은 반드시 들여쓰기가 되어야 한다.\n",
    "\n",
    "파이썬에서는 들여쓰기가 실행문의 구분하는 역할을 수행한다.\n",
    "\n",
    "If < 조건 > 이 참(사실) 이며,  < 실행문 > 이 실행된다. If < 조건 > 이 거짓이며, < 실행문 > 은 실행되지 않거나 다음 단계로 진행된다.\n",
    "\n",
    "<b> 주의 : 콜론 (:)은 < 조건 > 다음에 반드시 있어야 한다. </b>"
   ]
  },
  {
   "cell_type": "markdown",
   "metadata": {},
   "source": [
    "IF 문에 대한 간단하 예제는 다음과 같다"
   ]
  },
  {
   "cell_type": "code",
   "execution_count": 9,
   "metadata": {},
   "outputs": [
    {
     "name": "stdout",
     "output_type": "stream",
     "text": [
      "yes\n"
     ]
    }
   ],
   "source": [
    "x = 2\n",
    "y = 12\n",
    "\n",
    "if x < y:                            # 반드시 콜론 필요\n",
    "    \n",
    "    print('yes')                       # 반드시 if에서 들여쓰기 필요\n",
    "    \n",
    "    \n",
    "if y < x:                            # 실행되지 않음\n",
    "    \n",
    "    print('yes')"
   ]
  },
  {
   "cell_type": "code",
   "execution_count": 14,
   "metadata": {},
   "outputs": [
    {
     "name": "stdout",
     "output_type": "stream",
     "text": [
      "yes\n"
     ]
    }
   ],
   "source": [
    "if '김' in '홍길동':               \n",
    "    print('yes')\n",
    "if '길' in '홍길동':               \n",
    "    print('yes')    "
   ]
  },
  {
   "cell_type": "code",
   "execution_count": 15,
   "metadata": {},
   "outputs": [],
   "source": [
    "if 'gang' in ['kim', 'park', 'lee']: \n",
    "    print('yes')"
   ]
  },
  {
   "cell_type": "markdown",
   "metadata": {},
   "source": [
    "## 다중실행문 처리 : 들여쓰기와 블럭\n",
    "\n",
    "\n",
    "조건이 사실이 경우, 하나 이상의 실행문을 처리하고자 하는 경우에 대해 살펴보자..\n",
    "\n",
    "다시 말해, 이것은 조건이 사실인 경우, 다음의 실행문을 일괄로 수행하기 위한 것이다.\n",
    "\n",
    "\n",
    "### 다중실행문 \n",
    "\n",
    "파이썬 프로그램에서 들여쓰기는 아주 중요한 기능을 수행한다. 들여쓰기는 블럭 또는 다중실행문을 하나로 인식하도록 하는 기능을 한다. 동일한 들여쓰기에 있는 실행문은 하나의 블럭으로 인식한다.\n",
    "\n",
    "따라서, 다중실행문은 아래와 같다.\n",
    "\n",
    "if < 조건문 >:\n",
    "\n",
    "    < 실행문 >\n",
    "    \n",
    "    < 실행문 >\n",
    "    \n",
    "    ...\n",
    "    < 실행문 >\n",
    "    \n",
    "< 최종 실행문 >\n",
    "\n",
    "동일한 들여쓰기가 있는 모든 실행문은 하나의 블럭으로 인식하고, 조건이 사실인 경우 블럭의 전체를 실행하고 거짓인 경우 최종실행문으로 이동하게 된다.\n",
    "\n",
    "여기서 주의할 점은, 조건이 사실인 경우 블럭의 모든 실행문을 실행하고 최종실행문도 실행한다는 것이다.\n",
    "    \n",
    "   \n",
    "Note : 위 설명을 보면 외 최종실행문이 필요한가에 대한 의문이 생길 것입니다. 최종실행문의 역할은 IF문이 끝나는 점을 알려주기 위한 것이다."
   ]
  },
  {
   "cell_type": "code",
   "execution_count": 17,
   "metadata": {},
   "outputs": [
    {
     "name": "stdout",
     "output_type": "stream",
     "text": [
      "조건이 사실\n",
      "블럭으로 실행\n",
      "완료\n",
      "IF문 종료됨\n"
     ]
    }
   ],
   "source": [
    "if 'kim' in ['kim', 'park', 'lee']: \n",
    "    print('조건이 사실')\n",
    "    print('블럭으로 실행')\n",
    "    print('완료')\n",
    "print('IF문 종료됨')"
   ]
  },
  {
   "cell_type": "code",
   "execution_count": 18,
   "metadata": {},
   "outputs": [
    {
     "name": "stdout",
     "output_type": "stream",
     "text": [
      "IF문 종료됨\n"
     ]
    }
   ],
   "source": [
    "if 'gang' in ['kim', 'park', 'lee']: \n",
    "    print('조건이 사실')\n",
    "    print('블럭으로 실행')\n",
    "    print('완료')\n",
    "print('IF문 종료됨')"
   ]
  },
  {
   "cell_type": "markdown",
   "metadata": {},
   "source": [
    "IF문은 들여쓰기를 통해 새로운 IF문을 생성할 수 있다."
   ]
  },
  {
   "cell_type": "code",
   "execution_count": 21,
   "metadata": {},
   "outputs": [
    {
     "name": "stdout",
     "output_type": "stream",
     "text": [
      "조건이 사실\n",
      "내부 조건 1 완료\n",
      "1은 2보다 작다\n",
      "내부 조건 2 완료\n",
      "IF문 종료됨\n"
     ]
    }
   ],
   "source": [
    "if 'kim' in ['kim', 'park', 'lee']: \n",
    "    print('조건이 사실')\n",
    "    \n",
    "    if 1>2:\n",
    "        print('1은 2보다 크다')\n",
    "    print('내부 조건 1 완료')\n",
    "    \n",
    "    if 1<2:\n",
    "        print('1은 2보다 작다')\n",
    "    print('내부 조건 2 완료')   \n",
    "    \n",
    "print('IF문 종료됨')"
   ]
  },
  {
   "cell_type": "markdown",
   "metadata": {},
   "source": [
    "###  else 와 elif 문\n",
    "\n",
    "else와 elif문은 조건문이 사실인 경우 다른 조건을 포함시키고 싶을 때 사용된다.\n",
    "\n",
    "if < 조건문 >:\n",
    "\n",
    "    < 실행문 >\n",
    "    \n",
    "else:\n",
    "\n",
    "    < 실행문 >\n",
    "    \n",
    "If < 조건문 > 이 사실이면, 첫번째 실행문을 실행하고 두번째 실행문 넘어가게 되며 거짓인 경우는 첫번째 실행문은 실행하지 않고 두번째 실행문을 수행하는 것이다. 두 실행문 모두 들여쓰기가 동일해야 한다.\n",
    "\n",
    "In this example, x is less than 50, so the first suite (lines 4 to 5) are executed, and the second suite (lines 7 to 8) are skipped:"
   ]
  },
  {
   "cell_type": "code",
   "execution_count": 22,
   "metadata": {},
   "outputs": [
    {
     "name": "stdout",
     "output_type": "stream",
     "text": [
      "(첫번째 실행문)\n",
      "x은 50보다 작다.\n"
     ]
    }
   ],
   "source": [
    "x = 20\n",
    "\n",
    "if x < 50:\n",
    "    print('(첫번째 실행문)')\n",
    "    print('x은 50보다 작다.')\n",
    "else:\n",
    "    print('(첫번째 실행문)')\n",
    "    print('x은 50보다 크다')"
   ]
  },
  {
   "cell_type": "markdown",
   "metadata": {},
   "source": [
    "elif and else은 아래와 같이 사용할 수 있다.\n",
    "\n",
    "if < 조건문 >:\n",
    "\n",
    "    < 실행문 >\n",
    "    \n",
    "elif < 조건문 >:\n",
    "\n",
    "    < 실행문 >\n",
    "    \n",
    "elif < 조건문 >:\n",
    "\n",
    "    < 실행문 >\n",
    "    ...\n",
    "else:\n",
    "\n",
    "    < 실행문 >"
   ]
  },
  {
   "cell_type": "code",
   "execution_count": 23,
   "metadata": {},
   "outputs": [
    {
     "name": "stdout",
     "output_type": "stream",
     "text": [
      "어이 김씨\n"
     ]
    }
   ],
   "source": [
    "name = 'kim'\n",
    "if name == 'gang':\n",
    "    print('어이! 강씨')\n",
    "elif name == 'kim':\n",
    "    print('어이! 김씨')\n",
    "elif name == 'park':\n",
    "    print('어이! 박씨')\n",
    "elif name == 'lee':\n",
    "    print('어이! 이씨')\n",
    "else:\n",
    "    print(\"누구세요?\")"
   ]
  },
  {
   "cell_type": "markdown",
   "metadata": {},
   "source": [
    "하지만, 파이썬에서 elif와 else문을 사용하기 보다 파이썬에서 제공하는 간단한 방법을 사용하는 것을 추천한다.\n",
    "\n",
    "아래 부문을 이해 못하는 분들은 파이썬의 데이터 타입중 dictionary를 참고해 주시기 바랍니다."
   ]
  },
  {
   "cell_type": "code",
   "execution_count": 24,
   "metadata": {},
   "outputs": [
    {
     "name": "stdout",
     "output_type": "stream",
     "text": [
      "누구세요?\n",
      "어이! 김씨\n"
     ]
    }
   ],
   "source": [
    "names = {\n",
    "    'gang': '어이! 강씨',\n",
    "    'kim': '어이! 김씨',\n",
    "    'park': '어이! 박씨',\n",
    "    'lee': '어이! 이씨'\n",
    "}\n",
    "\n",
    "print(names.get('go', \"누구세요?\"))\n",
    "\n",
    "print(names.get('kim', \"누구세요?\"))"
   ]
  },
  {
   "cell_type": "markdown",
   "metadata": {},
   "source": [
    "elif을 사용하지 첫번째 조건이 사실인 경우, 다음의 조건은 수행하지 않는다. 첫번째 조건이 사실인 경우만 다음 조건을 수행하게 되는데 이것이 elif 사용시 주의할 점이다."
   ]
  },
  {
   "cell_type": "code",
   "execution_count": 28,
   "metadata": {},
   "outputs": [
    {
     "name": "stdout",
     "output_type": "stream",
     "text": [
      "foo\n"
     ]
    }
   ],
   "source": [
    "if 'm' in 'kim':\n",
    "    print('kim')\n",
    "elif 1/0:\n",
    "    print(\"This won't happen\")\n",
    "elif var:\n",
    "    print(\"This won't either\")"
   ]
  },
  {
   "cell_type": "code",
   "execution_count": 27,
   "metadata": {},
   "outputs": [
    {
     "ename": "ZeroDivisionError",
     "evalue": "division by zero",
     "output_type": "error",
     "traceback": [
      "\u001b[1;31m---------------------------------------------------------------------------\u001b[0m",
      "\u001b[1;31mZeroDivisionError\u001b[0m                         Traceback (most recent call last)",
      "\u001b[1;32m<ipython-input-27-439cf66595ed>\u001b[0m in \u001b[0;36m<module>\u001b[1;34m()\u001b[0m\n\u001b[0;32m      1\u001b[0m \u001b[1;32mif\u001b[0m \u001b[1;34m'p'\u001b[0m \u001b[1;32min\u001b[0m \u001b[1;34m'kim'\u001b[0m\u001b[1;33m:\u001b[0m\u001b[1;33m\u001b[0m\u001b[0m\n\u001b[0;32m      2\u001b[0m     \u001b[0mprint\u001b[0m\u001b[1;33m(\u001b[0m\u001b[1;34m'foo'\u001b[0m\u001b[1;33m)\u001b[0m\u001b[1;33m\u001b[0m\u001b[0m\n\u001b[1;32m----> 3\u001b[1;33m \u001b[1;32melif\u001b[0m \u001b[1;36m1\u001b[0m\u001b[1;33m/\u001b[0m\u001b[1;36m0\u001b[0m\u001b[1;33m:\u001b[0m\u001b[1;33m\u001b[0m\u001b[0m\n\u001b[0m\u001b[0;32m      4\u001b[0m     \u001b[0mprint\u001b[0m\u001b[1;33m(\u001b[0m\u001b[1;34m\"This won't happen\"\u001b[0m\u001b[1;33m)\u001b[0m\u001b[1;33m\u001b[0m\u001b[0m\n\u001b[0;32m      5\u001b[0m \u001b[1;32melif\u001b[0m \u001b[0mvar\u001b[0m\u001b[1;33m:\u001b[0m\u001b[1;33m\u001b[0m\u001b[0m\n",
      "\u001b[1;31mZeroDivisionError\u001b[0m: division by zero"
     ]
    }
   ],
   "source": [
    "if 'p' in 'kim':\n",
    "    print('kim')\n",
    "elif 1/0:\n",
    "    print(\"This won't happen\")\n",
    "elif var:\n",
    "    print(\"This won't either\")"
   ]
  },
  {
   "cell_type": "markdown",
   "metadata": {},
   "source": [
    "## 한줄 IF문\n",
    "\n",
    "IF문은 아래아 같이ㅣ 들여쓰기로 구분할 수 있지만, 한줄로로 동일한 기능을 수행할 수 있다.\n",
    "\n",
    "if < 조건문 >:\n",
    "\n",
    "    < 실행문 >\n",
    "\n",
    "아래는 위와 기능면에서 동일하다.   \n",
    "\n",
    "if < 조건문 >: < 실행문 >\n",
    "\n",
    "실행문은 세미콜론으로 구분하여 여러개를 만들수 있다.\n",
    "    \n",
    "if < 조건문 >: < 실행문 1 >; < 실행문 2 >; ...; < 실행문 n >    "
   ]
  },
  {
   "cell_type": "code",
   "execution_count": 29,
   "metadata": {},
   "outputs": [
    {
     "name": "stdout",
     "output_type": "stream",
     "text": [
      "1\n",
      "2\n",
      "3\n"
     ]
    }
   ],
   "source": [
    "if 'm' in 'kim': print('1'); print('2'); print('3')\n",
    "if 'p' in 'kim': print('1'); print('2'); print('3')   "
   ]
  },
  {
   "cell_type": "markdown",
   "metadata": {},
   "source": [
    "elif 와 else 문도 한줄로 표현할 수 있다."
   ]
  },
  {
   "cell_type": "code",
   "execution_count": 30,
   "metadata": {},
   "outputs": [
    {
     "name": "stdout",
     "output_type": "stream",
     "text": [
      "gang\n",
      "seo\n",
      "oh\n",
      "cho\n"
     ]
    }
   ],
   "source": [
    "x = 2\n",
    "if x == 1: print('kim'); print('park'); print('lee')\n",
    "elif x == 2: print('gang'); print('seo')\n",
    "else: print('oh'); print('cho')\n",
    "    \n",
    "x = 3\n",
    "if x == 1: print('kim'); print('park'); print('lee')\n",
    "elif x == 2: print('gang'); print('seo')\n",
    "else: print('oh'); print('cho')   "
   ]
  },
  {
   "cell_type": "markdown",
   "metadata": {},
   "source": [
    "## 파이썬 Ternary Operator 조건\n",
    "\n",
    "파이썬은 다른 프로그램과 다르데 Ternary Operator 조건문을 만들 수 있다.\n",
    "\n",
    "아래가 간단한 문장이다. 조건문이 사실일때, 실행문 1을 실행하고 거짓일때 실행문 2를 실행하는 것이다.\n",
    "\n",
    "< 실행문 1 > if  < 조건문 > else < 실행문 2 >"
   ]
  },
  {
   "cell_type": "code",
   "execution_count": 31,
   "metadata": {},
   "outputs": [
    {
     "name": "stdout",
     "output_type": "stream",
     "text": [
      "미성년\n"
     ]
    },
    {
     "data": {
      "text/plain": [
       "'누구세요?'"
      ]
     },
     "execution_count": 31,
     "metadata": {},
     "output_type": "execute_result"
    }
   ],
   "source": [
    "age = 19\n",
    "s = '미성년' if age < 21 else '성인'\n",
    "print(s)\n",
    "\n",
    "'어이! 강씨' if ('gang' in ['kim', 'park', 'lee']) else '누구세요?'"
   ]
  },
  {
   "cell_type": "markdown",
   "metadata": {},
   "source": [
    "Ternary Operator 조건은 다른 연산자와 동일하게 사용될 수 있다. 아래와 같이 산칙연산이 가능하다."
   ]
  },
  {
   "cell_type": "code",
   "execution_count": 34,
   "metadata": {},
   "outputs": [
    {
     "name": "stdout",
     "output_type": "stream",
     "text": [
      "42\n",
      "42\n",
      "43\n"
     ]
    }
   ],
   "source": [
    "x = y = 40\n",
    "\n",
    "z = 1 + x if x > y else y + 2\n",
    "print(z)\n",
    "\n",
    "z = (1 + x) if x > y else (y + 2)\n",
    "print(z)\n",
    "\n",
    "z = 1 + (x if x > y else y) + 2  # 40에 1과 2을 더함\n",
    "print(z)"
   ]
  },
  {
   "cell_type": "markdown",
   "metadata": {},
   "source": [
    "Ternary Operator는  if/elif/else 문과 동일하게 사용될 수 있다."
   ]
  },
  {
   "cell_type": "code",
   "execution_count": 46,
   "metadata": {},
   "outputs": [
    {
     "name": "stdout",
     "output_type": "stream",
     "text": [
      "gang\n",
      "park\n",
      "park\n"
     ]
    }
   ],
   "source": [
    "x=4\n",
    "\n",
    "s = ('kim' if (x == 1) else\n",
    "     'park' if (x == 2) else\n",
    "     'lee' if (x == 3) else\n",
    "     'gang'\n",
    ")\n",
    "print(s)\n",
    "\n",
    "x=2\n",
    "s = ('kim' if (x == 1) else\n",
    "     'park' if (x == 2) else\n",
    "     'lee' if (x == 3) else\n",
    "     'gang'\n",
    ")\n",
    "print(s)\n",
    "\n",
    "\n",
    "\n",
    "if x == 1:\n",
    "    print('kim')\n",
    "elif x == 2:\n",
    "    print('park')\n",
    "elif x == 3:\n",
    "    print('lee')\n",
    "else:\n",
    "    print(\"gang\")\n"
   ]
  },
  {
   "cell_type": "markdown",
   "metadata": {},
   "source": [
    "## The Python pass Statement\n",
    "\n",
    "때때로, 프로그램 작성시 완성된 프로그램을 완성하지 않고 실행하고자 할 때, 들여쓰기 오류을 인식하지 않고 처리할때 pass을 사용하게 되며 예제는 아래와 같다"
   ]
  },
  {
   "cell_type": "code",
   "execution_count": 47,
   "metadata": {},
   "outputs": [
    {
     "ename": "IndentationError",
     "evalue": "expected an indented block (<ipython-input-47-45bc95a586eb>, line 3)",
     "output_type": "error",
     "traceback": [
      "\u001b[1;36m  File \u001b[1;32m\"<ipython-input-47-45bc95a586eb>\"\u001b[1;36m, line \u001b[1;32m3\u001b[0m\n\u001b[1;33m    print('foo')\u001b[0m\n\u001b[1;37m        ^\u001b[0m\n\u001b[1;31mIndentationError\u001b[0m\u001b[1;31m:\u001b[0m expected an indented block\n"
     ]
    }
   ],
   "source": [
    "if 1>2:\n",
    "\n",
    "print('end')"
   ]
  },
  {
   "cell_type": "code",
   "execution_count": 48,
   "metadata": {},
   "outputs": [
    {
     "name": "stdout",
     "output_type": "stream",
     "text": [
      "end\n"
     ]
    }
   ],
   "source": [
    "if 1>2:\n",
    "    pass\n",
    "\n",
    "print('end')"
   ]
  }
 ],
 "metadata": {
  "kernelspec": {
   "display_name": "Python 3",
   "language": "python",
   "name": "python3"
  },
  "language_info": {
   "codemirror_mode": {
    "name": "ipython",
    "version": 3
   },
   "file_extension": ".py",
   "mimetype": "text/x-python",
   "name": "python",
   "nbconvert_exporter": "python",
   "pygments_lexer": "ipython3",
   "version": "3.6.4"
  }
 },
 "nbformat": 4,
 "nbformat_minor": 2
}
