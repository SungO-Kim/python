{
 "cells": [
  {
   "cell_type": "markdown",
   "metadata": {},
   "source": [
    "# Heading 1\n",
    "## Heading 2\n",
    "### Heading 3\n",
    "#### Heading 4\n",
    "##### Heading 5\n",
    "###### Heading 6\n",
    "\n",
    "\n",
    "Normal\n",
    "\n",
    "*Italics* or _Italics_\n",
    "\n",
    "**Bold** or __Bold__\n",
    "\n",
    "**_Bold and Italics_**\n",
    "\n",
    "~~Strike Through~~    \n",
    "\n",
    "* Bullet Point \n",
    " - Bullet Point \n",
    "+ Bullet Point\n",
    "\n",
    "\n",
    "1. Numbered\n",
    "    1. Sub Number\n",
    "\n",
    "www.google.com"
   ]
  },
  {
   "cell_type": "markdown",
   "metadata": {},
   "source": [
    "<ol>\n",
    "<li>Fish</li>\n",
    "<li>Eggs</li>\n",
    "<li>Cheese</li>\n",
    "</ol>\n",
    "\n",
    "\n",
    "<ul>\n",
    "<li>Fish</li>\n",
    "<li>Eggs</li>\n",
    "<li>Cheese</li>\n",
    "</ul>\n",
    "\n",
    "\n",
    "<i>This is italic text </i>\n",
    "\n",
    "\n",
    "\n",
    "* This is italic text\n",
    "\n",
    "_ This is italic text\n",
    "\n",
    "\n",
    "\n",
    "<b>This is bold text </b>\n",
    "** This is bold text\n",
    "__ This is bold text\n",
    "\n",
    "\n",
    "he line breaks after using <br> br tags and it is awesome.\n",
    "\n",
    "\n",
    "# (Header 1, title)\n",
    "\n",
    "## (Header 2, major headings)\n",
    "\n",
    "### (Header 3, subheadings)\n",
    "\n",
    "#### (Header 4)\n",
    "\n",
    "##### (Header 5)\n",
    "\n",
    "###### (Header 6)\n",
    "\n",
    "\n",
    "<h1>Header 1,title<h1>\n",
    "<h2>Header 2,major headings<h2>\n",
    "<h3>Header 3,subheadings<h3>\n",
    "<h4>Header 4<h4>\n",
    "<h5>Header 5<h5>\n",
    "<h6>Header 6<h6>"
   ]
  },
  {
   "cell_type": "markdown",
   "metadata": {},
   "source": [
    "\n",
    "| Default Header | Left Align | Right Align | Center Align |\n",
    "| --- |:-- | -----------------: | -----------------------------------: |\n",
    "| a   |    b    |  c   | d  |\n",
    "\n"
   ]
  },
  {
   "cell_type": "markdown",
   "metadata": {},
   "source": [
    "| Heading 1 | Heading 2 | Heading 3 |\n",
    " \n",
    "|---|:--:|--:|\n",
    "\n",
    "| left-aligned | Centered | right-justified |\n",
    " \n",
    "| Hidarihidarihidarihidarihidarihidari | during during Chuchu | right right right right right right |"
   ]
  },
  {
   "cell_type": "markdown",
   "metadata": {},
   "source": [
    "\n",
    "<table align=\"left\">\n",
    "<thead>\n",
    "<tr><th>Header</th><th>Header</th><th>Header</th></tr>\n",
    "</thead>\n",
    "<tbody>\n",
    "<tr><td><div style=\"text-align: center\"> A</div></td><td>B</td><td>C</td></tr>\n",
    "<tr><td>X</td><td>Y</td><td>Z</td></tr>\n",
    "</tbody>\n",
    "</table>"
   ]
  },
  {
   "cell_type": "markdown",
   "metadata": {},
   "source": [
    "<div align=\"left\">\n",
    "<table>\n",
    "<thead>\n",
    "<tr><th>Header</th><th>Header</th><th>Header</th></tr>\n",
    "</thead>\n",
    "<tbody>\n",
    "<tr align=\"left\" ><td>A</td><td>B</td><td>C</td></tr>\n",
    "<tr><td>X</td><td align=\"right\">Y</td><td>Z</td></tr>\n",
    "</tbody>\n",
    "</table>\n",
    "</div>"
   ]
  },
  {
   "cell_type": "markdown",
   "metadata": {},
   "source": [
    "\n",
    "<table align=\"left\">\n",
    "<thead>\n",
    "<tr><th>Header</th><th>Header</th><th>Header</th></tr>\n",
    "</thead>\n",
    "<tbody>\n",
    "<tr align=\"center\"><td>A</td><td>B</td><td>C</td></tr>\n",
    "<tr align=\"left\"><td>X</td><td>Y</td><td>Z</td></tr>\n",
    "</tbody>\n",
    "</table>\n"
   ]
  },
  {
   "cell_type": "markdown",
   "metadata": {},
   "source": [
    "<span style=\"color:blue\">Text</span>"
   ]
  },
  {
   "cell_type": "markdown",
   "metadata": {},
   "source": [
    "<style> .first-row { text-align: center; } .second-row { text-align: right; } .third-row { text-align: left; } </style>\n",
    "<table> <tr class=\"first-row\"> <td>First column</td> <td>Second column</td> <td>Third column</td> </tr>\n",
    "        <tr class=\"second-row\"> <td>First column</td> <td>Second column</td> <td>Third column</td> </tr> \n",
    "        <tr class=\"third-row\"> <td>First column</td> <td>Second column</td> <td>Third column</td> </tr>\n",
    "</table>\n"
   ]
  },
  {
   "cell_type": "markdown",
   "metadata": {},
   "source": [
    "Function| Description \n",
    ":--|:-:\n",
    "**chr()**| *Converts an integer to a character*           \n",
    "**ord()**| *Converts a character to an integer*  \n",
    "**len()**| *Returns the length of a string*  \n",
    "**str()**| *Returns a string representation of an object*  "
   ]
  },
  {
   "cell_type": "markdown",
   "metadata": {},
   "source": [
    "<img src=\"2.webp\" width=\"200\" height=\"100\">"
   ]
  },
  {
   "cell_type": "markdown",
   "metadata": {},
   "source": [
    "<div style=\"text-align: right\"> your-text-here </div>"
   ]
  },
  {
   "cell_type": "markdown",
   "metadata": {},
   "source": [
    "<table align=\"left\">\n",
    "<thead>\n",
    "<tr><th><div style=\"text-align: center\">Function</div></th><th><div style=\"text-align: center\">Description</div></th>\n",
    "</thead>\n",
    "<tbody>\n",
    "    <tr><td><b><i><div style=\"text-align: center\">chr()</div></i></b></td><td><div style=\"text-align: left\">Converts an integer to a character</div></td></tr>\n",
    "    <tr><td><b><div style=\"text-align: center\">ord()</div></b></td><td><div style=\"text-align: left\">Converts a character to an intege</div></td></tr>\n",
    "    <tr><td><b><div style=\"text-align: center\">len()</div></b></td><td><div style=\"text-align: left\">Returns the length of a string</div></td></tr>\n",
    "    <tr><td><b><div style=\"text-align: center\">str()</div></b></td><td><div style=\"text-align: left\">Returns a string representation of an object</div></td></tr>\n",
    "</tbody>\n",
    "</table>"
   ]
  },
  {
   "cell_type": "markdown",
   "metadata": {},
   "source": [
    "<table>\n",
    "<thead>\n",
    "   <tr><th>Header</th><th>Header</th><th>Header</th></tr>\n",
    "</thead>\n",
    "<tbody>\n",
    "    <tr><td>A</td><td>B</td><td>C</td></tr>\n",
    "    <tr><td>1</td><td>2</td><td>3</td></tr>\n",
    "</tbody>\n",
    "</table>"
   ]
  },
  {
   "cell_type": "code",
   "execution_count": null,
   "metadata": {},
   "outputs": [],
   "source": []
  }
 ],
 "metadata": {
  "kernelspec": {
   "display_name": "Python 3",
   "language": "python",
   "name": "python3"
  },
  "language_info": {
   "codemirror_mode": {
    "name": "ipython",
    "version": 3
   },
   "file_extension": ".py",
   "mimetype": "text/x-python",
   "name": "python",
   "nbconvert_exporter": "python",
   "pygments_lexer": "ipython3",
   "version": "3.6.4"
  }
 },
 "nbformat": 4,
 "nbformat_minor": 2
}
